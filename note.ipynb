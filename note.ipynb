{
 "cells": [
  {
   "cell_type": "code",
   "execution_count": 24,
   "metadata": {},
   "outputs": [
    {
     "name": "stdout",
     "output_type": "stream",
     "text": [
      "q q\n",
      "w w\n",
      "e e\n",
      "r r\n",
      "YES\n"
     ]
    }
   ],
   "source": [
    "ww = [\"qwer\", 'asdf', 'zxcvbnm']\n",
    "pp = [\"qwer\", 'asdf', 'zxcvbnm']\n",
    "\n",
    "\n",
    "for i, j in zip(ww[0], pp[0]):\n",
    "    \n",
    "    print(i, j)\n",
    "\n",
    "if i == j:\n",
    "    print('YES')\n",
    "else:\n",
    "    print('pussy')\n"
   ]
  },
  {
   "cell_type": "code",
   "execution_count": 12,
   "metadata": {},
   "outputs": [
    {
     "name": "stdout",
     "output_type": "stream",
     "text": [
      "Asdf\n"
     ]
    }
   ],
   "source": []
  }
 ],
 "metadata": {
  "kernelspec": {
   "display_name": "Python 3.10.5 64-bit",
   "language": "python",
   "name": "python3"
  },
  "language_info": {
   "codemirror_mode": {
    "name": "ipython",
    "version": 3
   },
   "file_extension": ".py",
   "mimetype": "text/x-python",
   "name": "python",
   "nbconvert_exporter": "python",
   "pygments_lexer": "ipython3",
   "version": "3.10.5"
  },
  "orig_nbformat": 4,
  "vscode": {
   "interpreter": {
    "hash": "07d4027a9d5a2d17ca274cae8ea4257d348dc8ef83b7854a3ad49472e0b4c5f4"
   }
  }
 },
 "nbformat": 4,
 "nbformat_minor": 2
}
