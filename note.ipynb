{
 "cells": [
  {
   "cell_type": "code",
   "execution_count": null,
   "metadata": {},
   "outputs": [],
   "source": [
    "from openpyxl.workbook import Workbook\n",
    "from openpyxl import load_workbook\n",
    "\n",
    "\n",
    "wb =  Workbook()\n",
    "ws =  wb.active()\n"
   ]
  },
  {
   "cell_type": "code",
   "execution_count": null,
   "metadata": {},
   "outputs": [],
   "source": [
    "ws1 = wb.create_sheet('NewSheet')\n",
    "ws2 =  wb.create_sheet('Another', 0)\n",
    "\n",
    "ws.title = \"MySheet\"\n",
    "print(wb.sheetnames)"
   ]
  }
 ],
 "metadata": {
  "kernelspec": {
   "display_name": "Python 3.10.5 64-bit",
   "language": "python",
   "name": "python3"
  },
  "language_info": {
   "name": "python",
   "version": "3.10.5"
  },
  "orig_nbformat": 4,
  "vscode": {
   "interpreter": {
    "hash": "07d4027a9d5a2d17ca274cae8ea4257d348dc8ef83b7854a3ad49472e0b4c5f4"
   }
  }
 },
 "nbformat": 4,
 "nbformat_minor": 2
}
