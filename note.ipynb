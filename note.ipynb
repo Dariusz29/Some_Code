{
 "cells": [
  {
   "cell_type": "code",
   "execution_count": 30,
   "metadata": {},
   "outputs": [
    {
     "name": "stdout",
     "output_type": "stream",
     "text": [
      "YES\n"
     ]
    }
   ],
   "source": [
    "ww = [\"qwer\", 'asdf', 'zxcvbnm']\n",
    "pp = [\"qwer\", 'asdf', 'zxcvbnm']\n",
    "word = ''\n",
    "ans =''\n",
    "\n",
    "for i, j in zip(ww[0], pp[0]):\n",
    "    \n",
    "    word += i\n",
    "    ans += j\n",
    "\n",
    "if word == ans:\n",
    "    print('YES')\n",
    "else:\n",
    "    print('NOT')\n"
   ]
  },
  {
   "cell_type": "code",
   "execution_count": 108,
   "metadata": {},
   "outputs": [
    {
     "name": "stdout",
     "output_type": "stream",
     "text": [
      "{0: 'd', 1: 'o', 2: 'm', 3: 'e', 4: 'k'} {0: 'd', 1: 'o', 2: 'm'}\n",
      "dict_values(['d', 'o', 'm', 'e', 'k']) dict_values(['d', 'o', 'm'])\n",
      "3 5\n",
      "good\n"
     ]
    }
   ],
   "source": [
    "a = 'domek'\n",
    "b = 'dom'\n",
    "word = {}\n",
    "ans = {}\n",
    "for i, j in enumerate(a):\n",
    "    word[i] = j\n",
    "\n",
    "for i, j in enumerate(b):\n",
    "    ans[i] = j\n",
    "print(word, ans)\n",
    "print(word.values(), ans.values())\n",
    "\n",
    "check = []\n",
    "for i in range(len(ans.keys())):\n",
    "\n",
    "    if word[i] == ans[i]:\n",
    "        check.append(1)\n",
    "\n",
    "    else:\n",
    "        check.append(0)\n",
    "\n",
    "print(sum(check), len(word.keys()))\n",
    "if sum(check) >= len(word.keys())//2:\n",
    "    print('good')\n",
    "\n"
   ]
  },
  {
   "cell_type": "code",
   "execution_count": 123,
   "metadata": {},
   "outputs": [
    {
     "name": "stdout",
     "output_type": "stream",
     "text": [
      "ę\n",
      "eaśłżźćń\n"
     ]
    },
    {
     "ename": "TypeError",
     "evalue": "replace expected at most 3 arguments, got 4",
     "output_type": "error",
     "traceback": [
      "\u001b[1;31m---------------------------------------------------------------------------\u001b[0m",
      "\u001b[1;31mTypeError\u001b[0m                                 Traceback (most recent call last)",
      "\u001b[1;32mc:\\Users\\dariu\\Desktop\\some_code\\Some_Code\\note.ipynb Cell 3\u001b[0m in \u001b[0;36m<cell line: 14>\u001b[1;34m()\u001b[0m\n\u001b[0;32m     <a href='vscode-notebook-cell:/c%3A/Users/dariu/Desktop/some_code/Some_Code/note.ipynb#W2sZmlsZQ%3D%3D?line=9'>10</a>\u001b[0m ass \u001b[39m=\u001b[39m \u001b[39m'\u001b[39m\u001b[39m'\u001b[39m\u001b[39m.\u001b[39mjoin(sn)\n\u001b[0;32m     <a href='vscode-notebook-cell:/c%3A/Users/dariu/Desktop/some_code/Some_Code/note.ipynb#W2sZmlsZQ%3D%3D?line=11'>12</a>\u001b[0m \u001b[39mprint\u001b[39m(ass)\n\u001b[1;32m---> <a href='vscode-notebook-cell:/c%3A/Users/dariu/Desktop/some_code/Some_Code/note.ipynb#W2sZmlsZQ%3D%3D?line=13'>14</a>\u001b[0m result \u001b[39m=\u001b[39m string\u001b[39m.\u001b[39;49mreplace(\u001b[39m'\u001b[39;49m\u001b[39mą\u001b[39;49m\u001b[39m'\u001b[39;49m,\u001b[39m'\u001b[39;49m\u001b[39ma\u001b[39;49m\u001b[39m'\u001b[39;49m,\u001b[39m'\u001b[39;49m\u001b[39mę\u001b[39;49m\u001b[39m'\u001b[39;49m, \u001b[39m'\u001b[39;49m\u001b[39me\u001b[39;49m\u001b[39m'\u001b[39;49m)\n\u001b[0;32m     <a href='vscode-notebook-cell:/c%3A/Users/dariu/Desktop/some_code/Some_Code/note.ipynb#W2sZmlsZQ%3D%3D?line=14'>15</a>\u001b[0m \u001b[39mprint\u001b[39m(result)\n",
      "\u001b[1;31mTypeError\u001b[0m: replace expected at most 3 arguments, got 4"
     ]
    }
   ],
   "source": [
    "string = 'ęąśłżźćń'\n",
    "sn = list(string)\n",
    "for i,v in enumerate(sn):\n",
    "   \n",
    "    if v == 'ę':\n",
    "        print(sn[i])\n",
    "        sn[i] = 'e'\n",
    "    elif v == 'ą':\n",
    "        sn[i] = 'a'\n",
    "ass = ''.join(sn)\n",
    "        \n",
    "print(ass)\n",
    "\n",
    "result = string.replace('ą','a')\n",
    "print(result)\n"
   ]
  }
 ],
 "metadata": {
  "kernelspec": {
   "display_name": "Python 3.10.5 64-bit",
   "language": "python",
   "name": "python3"
  },
  "language_info": {
   "codemirror_mode": {
    "name": "ipython",
    "version": 3
   },
   "file_extension": ".py",
   "mimetype": "text/x-python",
   "name": "python",
   "nbconvert_exporter": "python",
   "pygments_lexer": "ipython3",
   "version": "3.10.5"
  },
  "orig_nbformat": 4,
  "vscode": {
   "interpreter": {
    "hash": "07d4027a9d5a2d17ca274cae8ea4257d348dc8ef83b7854a3ad49472e0b4c5f4"
   }
  }
 },
 "nbformat": 4,
 "nbformat_minor": 2
}
